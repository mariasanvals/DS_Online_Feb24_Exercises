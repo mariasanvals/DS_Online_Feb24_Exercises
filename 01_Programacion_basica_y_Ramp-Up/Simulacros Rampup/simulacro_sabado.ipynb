{
 "cells": [
  {
   "attachments": {},
   "cell_type": "markdown",
   "metadata": {},
   "source": [
    "# Simulacro Rampup"
   ]
  },
  {
   "cell_type": "code",
   "execution_count": 1,
   "metadata": {},
   "outputs": [],
   "source": [
    "# Escribe tu nombre y apellidos (apellido si solo tienes uno) en las variables:\n",
    "nombre = \"María\"\n",
    "apellidos = \"Sanabria Vals\""
   ]
  },
  {
   "cell_type": "code",
   "execution_count": 3,
   "metadata": {},
   "outputs": [
    {
     "name": "stdout",
     "output_type": "stream",
     "text": [
      "Bienvenida María Sanabria Vals. Mucha suerte!\n"
     ]
    }
   ],
   "source": [
    "# Solo ejecutar\n",
    "nombre_apellidos = nombre + ' ' + apellidos\n",
    "print(\"Bienvenida\", nombre_apellidos + '. Mucha suerte!')"
   ]
  },
  {
   "cell_type": "markdown",
   "metadata": {},
   "source": [
    "### Ejercicio 1: Calculadoras (3 puntos)\n"
   ]
  },
  {
   "cell_type": "markdown",
   "metadata": {},
   "source": [
    "Construye un programa que:\n",
    "\n",
    "- Salude al usuario por su nombre\n",
    "- Le pregunte si quiere sumar, restar, multiplicar o dividir\n",
    "- Pida que introduzca 2 números de manera sucesiva\n",
    "- Devuelva el resultado de manera formal con un mensaje apropiado \n",
    "\n",
    "**Ayuda**: No se puede dividir por 0"
   ]
  },
  {
   "cell_type": "code",
   "execution_count": 15,
   "metadata": {},
   "outputs": [
    {
     "name": "stdout",
     "output_type": "stream",
     "text": [
      "Muy buenas nos dé Dios, Lunita\n",
      "No se puede dividir por 0\n"
     ]
    }
   ],
   "source": [
    "nombre = input(\"Dime tu nombre\")\n",
    "print(f\"Muy buenas nos dé Dios, {nombre}\")\n",
    "peticion = input(\"¿Quieres sumar, restar, multiplicar o dividir?\")\n",
    "peticion = peticion.lower()\n",
    "peticion_num_1 = float(input(\"Si quieres que haga eso, dame un número\"))\n",
    "peticion_num_2 = float(input(\"Ahora dame otro número\"))\n",
    "if peticion == \"sumar\":\n",
    "    print(peticion_num_1 + peticion_num_2)\n",
    "elif peticion == \"restar\":\n",
    "     print(peticion_num_1 - peticion_num_2)\n",
    "elif peticion == \"multiplicar\":\n",
    "      print(peticion_num_1 * peticion_num_2)\n",
    "elif peticion == \"dividir\":\n",
    "    try:\n",
    "        resultado= peticion_num_1 / peticion_num_2\n",
    "    except ZeroDivisionError:\n",
    "         print(\"No se puede dividir por 0\")\n",
    "else: \n",
    "     print(\"Disculpe, no le he entendido, ¿ha dicho que quiere sumar, restar, multiplicar o dividir?\")\n",
    "\n",
    "\n",
    "\n",
    "\n"
   ]
  },
  {
   "cell_type": "markdown",
   "metadata": {},
   "source": [
    "Construye una calculadora que sea como la anterior pero:\n",
    "\n",
    "- Acepte tantos valores de entrada como queramos\n",
    "- Devuelva mensajes con las cuentas que se van haciendo.\n",
    "- Permita salir con una palabra clave (exit, quit, ...)"
   ]
  },
  {
   "cell_type": "code",
   "execution_count": 6,
   "metadata": {},
   "outputs": [
    {
     "name": "stdout",
     "output_type": "stream",
     "text": [
      "Muy buenas nos dé Dios, Maria\n",
      "3.3333333333333335\n"
     ]
    }
   ],
   "source": [
    "\n",
    "nombre = input(\"Dime tu nombre\")\n",
    "print(f\"Muy buenas nos dé Dios, {nombre}\")\n",
    "peticion = input(\"¿Quieres sumar, restar, multiplicar, dividir o salir?\")\n",
    "peticion = peticion.lower()\n",
    "peticion_valores = (input(\"Si quieres que haga eso, dame los números que quieras separados por comas\"))\n",
    "peticion_valores_str = peticion_valores.split(',')\n",
    "numeros = []\n",
    "for numero_str in peticion_valores_str:\n",
    "    try:\n",
    "        numero = float(numero_str)\n",
    "        numeros.append(numero)\n",
    "    except ValueError:\n",
    "        print(f\"Error: '{numero_str}' no es un número válido.\")\n",
    "if peticion == \"salir\":\n",
    "    print(\"¡Nos vemos pronto!\")\n",
    "elif peticion == \"sumar\":\n",
    "    print(sum(numeros))\n",
    "elif peticion == \"restar\":\n",
    "    if len(numeros) >= 2:\n",
    "        resultado = numeros[0] - sum(numeros[1:])\n",
    "        print(resultado)\n",
    "    else:\n",
    "        print(\"Error: Se requieren al menos dos números para la resta.\")\n",
    "elif peticion == \"multiplicar\":\n",
    "    if len(numeros) >= 2:\n",
    "        resultado = 1\n",
    "        for elemento in numeros:\n",
    "            resultado *= elemento\n",
    "        print(resultado)\n",
    "    else:\n",
    "        print(\"Error: Se requieren al menos dos números para la multiplicación.\")\n",
    "elif peticion == \"dividir\":\n",
    "    if len(numeros) >= 2:\n",
    "        cociente = numeros[0]\n",
    "        for elemento in numeros[1:]:\n",
    "            if elemento != 0:\n",
    "                cociente /= elemento\n",
    "            else:\n",
    "                print(\"Error: No se puede dividir por cero.\")\n",
    "                break\n",
    "        else:\n",
    "            print(cociente)\n",
    "    else:\n",
    "        print(\"Error: Se requieren al menos dos números para la división.\")\n",
    "else: \n",
    "     print(\"Disculpe, no le he entendido, ¿ha dicho que quiere sumar, restar, multiplicar o dividir?\")"
   ]
  },
  {
   "attachments": {},
   "cell_type": "markdown",
   "metadata": {},
   "source": [
    "### Ejercicio 2 (3 puntos)\n",
    "\n",
    "#### Crear un programa que calcule la cuota de una hipoteca\n",
    "\n",
    "Las cuotas hipotecarias se calculan utilizando la fórmula del interés francés. \n",
    "\n",
    "La fórmula del interés francés es la siguiente:\n",
    "\\begin{align*}\n",
    "C=V \\frac{(1+i)^n i}{(1+i)^n -1}\n",
    "\\end{align*}\n",
    "\n",
    "\n",
    "    C = cuota a pagar (mensual)\n",
    "    V = volumen del préstamo hipotecario\n",
    "    i = tipo de interés del período (mensual)\n",
    "    n = número de cuotas (mensuales)\n",
    "\n"
   ]
  },
  {
   "attachments": {},
   "cell_type": "markdown",
   "metadata": {},
   "source": [
    "1. Crea un programa que solicite al usuario los datos de su hipoteca mediante input() los datos (volumen, interés **anual**, y plazo en **años**) y le devuelva la cuota **mensual** a pagar. No es necesario encapsularlo en funciones. (0.4)"
   ]
  },
  {
   "cell_type": "code",
   "execution_count": 4,
   "metadata": {},
   "outputs": [
    {
     "name": "stdout",
     "output_type": "stream",
     "text": [
      "0.02864257873245576\n"
     ]
    }
   ],
   "source": [
    "peticion_volumen = float(input(\"¿Cuál es su volumen del préstamo hipotecario? \"))\n",
    "peticion_interes_anual = float(input(\"¿Cuál es su tipo de interés anual? \"))\n",
    "num_cuotas_anual = float(input(\"¿Cuál es su número de cuotas del préstamo en años? \"))\n",
    "\n",
    "    # Realizar el cálculo de la cuota\n",
    "interes_mensual = peticion_interes_anual / 12 / 100\n",
    "cuota_mensual = num_cuotas_anual * 12\n",
    "cuota_a_pagar = peticion_volumen * (((1 + interes_mensual) ** cuota_mensual * (interes_mensual)) / ((1 + interes_mensual) ** cuota_mensual - 1))\n",
    "\n",
    "print(cuota_a_pagar)\n"
   ]
  },
  {
   "attachments": {},
   "cell_type": "markdown",
   "metadata": {},
   "source": [
    "2. Crea una función `calcular_hip` que realiza el cálculo y cuyos argumentos de entrada sean `volumen`, `interes_anual` y `años`, devolviendo la couta mensual(float). El argumento de `años` deberá de tener un valor por defecto de 30. Documenta la función con el estilo de Google.  (0.4)"
   ]
  },
  {
   "cell_type": "code",
   "execution_count": 5,
   "metadata": {},
   "outputs": [
    {
     "name": "stdout",
     "output_type": "stream",
     "text": [
      "La cuota a pagar es: 0.0036961947268881433\n"
     ]
    }
   ],
   "source": [
    "def calcular_hip(volumen, interes_anual, años = 30):\n",
    "   cuota_a_pagar = peticion_volumen * (((1 + interes_mensual) ** cuota_mes * (interes_mensual)) / ((1 + interes_mensual) ** cuota_mes - 1))\n",
    "   return cuota_a_pagar\n",
    "peticion_volumen = float(input(\"¿Cuál es su volumen del préstamo hipotecario? \"))\n",
    "peticion_interes_anual = float(input(\"¿Cuál es su tipo de interés anual? \"))\n",
    "interes_mensual = peticion_interes_anual / 12 / 100\n",
    "cuota_mes = 30 * 12 \n",
    " \n",
    "\n",
    "# Llamar a la función y mostrar el resultado\n",
    "cuota_a_pagar = calcular_hip(peticion_volumen, interes_mensual, cuota_mes)\n",
    "print(f\"La cuota a pagar es: {cuota_a_pagar}\")\n",
    "    "
   ]
  },
  {
   "attachments": {},
   "cell_type": "markdown",
   "metadata": {},
   "source": [
    "3. Calcula la cuota y guárdala en la variable `res_cuota` si la cantidad de la hipoteca son 350000 euros, el interés anual es del 5% y la quiere pagar en 20 años a partir de la función `calcular_hip`. (0.4)\n",
    "\n"
   ]
  },
  {
   "cell_type": "code",
   "execution_count": 6,
   "metadata": {},
   "outputs": [
    {
     "name": "stdout",
     "output_type": "stream",
     "text": [
      "0.0036961947268881433\n"
     ]
    }
   ],
   "source": [
    "res_cuota = calcular_hip(350000, 5, 20)\n",
    "print(res_cuota)"
   ]
  },
  {
   "attachments": {},
   "cell_type": "markdown",
   "metadata": {},
   "source": [
    "4. Crea una función `gasto_vivienda`, con dos argumentos de entrada `ingreso` y `lista_hip`. Esta lista tendrá los 3 valores de los argumentos de entrada de `calcular_hip`, llamando a esta función desde dentro de `gasto_vivienda`. Tiene que devolver el valor del porcentaje de gasto en la hipoteca respecto a los ingresos. (Entre 0 y 1, es decir 0.5 si es del 50%) Documenta la función. (0.4)"
   ]
  },
  {
   "cell_type": "code",
   "execution_count": 8,
   "metadata": {},
   "outputs": [],
   "source": [
    "def gasto_vivienda (ingreso:float, lista_hip:list):\n",
    "    cuota = calculadora_hip(lista_hip[0],lista_hip[1],lista_hip[2])\n",
    "    return float(cuota / ingreso)"
   ]
  },
  {
   "cell_type": "markdown",
   "metadata": {},
   "source": []
  },
  {
   "attachments": {},
   "cell_type": "markdown",
   "metadata": {},
   "source": [
    "5. Calcula el porcentaje de gasto en la hipoteca si el ingreso es de 1700 euros y guárdalo en la variable `res_porcentaje` a partir de la función `gasto_vivienda`. (0.4)\n"
   ]
  },
  {
   "cell_type": "code",
   "execution_count": null,
   "metadata": {},
   "outputs": [],
   "source": [
    "res_porcentaje = gasto_vivienda(1700, [])"
   ]
  },
  {
   "cell_type": "markdown",
   "metadata": {},
   "source": [
    "#### Ejercicio 3 (3 puntos)\n",
    "\n",
    "Crea un programa que simule un carrusel infantil.\n",
    "\n",
    "\n",
    "El carrusel infantil tiene 3 posibles cochecitos: barco - bomberos - avioneta (una variable global de tipo lista, fuera de tu función).\n",
    "\n",
    "Debes escribir una **FUNCIÓN** llamada carrusel que tenga dos parámetros de entrada: el cochecito que eliges (puede valer el string barco, bomberos o avioneta) y un segundo parámetro llamado vueltas que es un entero.\n",
    "\n",
    "Tu función carrusel NO debe retornar nada, pero debe llamar internamente a coloca(cochecito), ya te lo doy programado. Si sientas al niño en \"avioneta\" y pones 3 vueltas, la función debería imprimir:\n",
    "\n",
    "\"vuelta 1: avioneta - barco - bomberos\"\n",
    "\n",
    "\"vuelta 2: avioneta - barco - bomberos\"\n",
    "\n",
    "\"vuelta 3: avioneta - barco - bomberos\"\n",
    "\n",
    "Se valorará positivamente que haya **UN BUCLE WHILE**.\n",
    "Si no te acaba de funcionar llamando a coloca(cochecito) tras un tiempo prudencial, escribe tu código sin usarlo."
   ]
  },
  {
   "cell_type": "code",
   "execution_count": 12,
   "metadata": {},
   "outputs": [],
   "source": [
    "lista_carrusel = [\"barco\", \"bomberos\", \"avioneta\"]\n",
    "\n",
    "def coloca(cochecito):  \n",
    "    if cochecito == \"barco\": \n",
    "        return lista_carrusel \n",
    "    elif cochecito == \"bomberos\" or cochecito == \"avioneta\": \n",
    "        elemento = lista_carrusel.pop(0)\n",
    "        lista_carrusel.append(elemento) \n",
    "    if cochecito == \"avioneta\":\n",
    "        elemento = lista_carrusel.pop(0) \n",
    "        lista_carrusel.append(elemento) \n",
    "    return lista_carrusel"
   ]
  },
  {
   "cell_type": "code",
   "execution_count": 16,
   "metadata": {},
   "outputs": [
    {
     "name": "stdout",
     "output_type": "stream",
     "text": [
      "vuelta 1:bomberos - avioneta - barco\n",
      "vuelta 2:avioneta - barco - bomberos\n",
      "vuelta 3:barco - bomberos - avioneta\n",
      "vuelta 4:bomberos - avioneta - barco\n",
      "vuelta 5:avioneta - barco - bomberos\n"
     ]
    }
   ],
   "source": [
    "def carrusel (cochecito, vueltas):\n",
    "    vuelta = 1\n",
    "    while vuelta <= vueltas:\n",
    "        print(f\"vuelta {vuelta}:{' - '.join(coloca(cochecito))}\")\n",
    "        vuelta += 1\n",
    "coche = input(\"¿En qué cochecito te quieres montar? (¿barco, bomberos o avioneta?)\").lower()\n",
    "num_vueltas = int(input(\"¿Qué numero de vueltas quieres dar?\"))\n",
    "\n",
    "carrusel(coche, num_vueltas)"
   ]
  },
  {
   "cell_type": "markdown",
   "metadata": {},
   "source": [
    "**EJERCICIO BONUS:**\n",
    "1. Crea una función que, dado un input `x`, devuelva \n",
    "$$\n",
    "y = 4x + 2\n",
    "$$\n",
    "\n",
    "2. Crea una función que, dado un input `x`, devuelva \n",
    "$$\n",
    "y = 3x^2 + 4x + 2\n",
    "$$\n",
    "\n",
    "3. Dado el polinomio\n",
    "\n",
    "$$\n",
    "a_nx^n + a_{n-1}x^{n-1} + ... + a_2x^2 + a_1x + a_0\n",
    "$$\n",
    "\n",
    "Crea una función que reciba como input `x` y una lista de `[a_0, ..., a_n]` y devuelva el valor del polinomio en `x`.\n",
    "\n",
    "**Nota**: En caso de no poder con una función, hacerlo como se pueda.\n",
    "\n",
    "**Pista**: El primero cumple `n = 1` y los parámetros son `[2, 4]`. El segundo: `n = 2` y los parámetros `[2, 4, 3]`. Con esta información, intenta generalizar."
   ]
  },
  {
   "cell_type": "code",
   "execution_count": 17,
   "metadata": {},
   "outputs": [
    {
     "data": {
      "text/plain": [
       "10.0"
      ]
     },
     "execution_count": 17,
     "metadata": {},
     "output_type": "execute_result"
    }
   ],
   "source": [
    "#Ejercicio Bonus 1\n",
    "\n",
    "def resolver_y (x):\n",
    "    y = 4 * x + 2\n",
    "    return y\n",
    "pedir_x = float(input(\"Dé un valor para 'x'\"))\n",
    "resolver_y(pedir_x)\n"
   ]
  },
  {
   "cell_type": "code",
   "execution_count": 19,
   "metadata": {},
   "outputs": [
    {
     "data": {
      "text/plain": [
       "9.0"
      ]
     },
     "execution_count": 19,
     "metadata": {},
     "output_type": "execute_result"
    }
   ],
   "source": [
    "#Ejercicio Bonus 2\n",
    "\n",
    "def devolver_y(x):\n",
    "    y = 3 * x**2 + 4 * x + 2\n",
    "    return y\n",
    "propuesta_x = float(input(\"Dé un valor para 'x\"))\n",
    "devolver_y(propuesta_x)"
   ]
  },
  {
   "cell_type": "code",
   "execution_count": null,
   "metadata": {},
   "outputs": [],
   "source": []
  }
 ],
 "metadata": {
  "kernelspec": {
   "display_name": "Python 3 (ipykernel)",
   "language": "python",
   "name": "python3"
  },
  "language_info": {
   "codemirror_mode": {
    "name": "ipython",
    "version": 3
   },
   "file_extension": ".py",
   "mimetype": "text/x-python",
   "name": "python",
   "nbconvert_exporter": "python",
   "pygments_lexer": "ipython3",
   "version": "3.10.11"
  },
  "vscode": {
   "interpreter": {
    "hash": "90139cb9a825bf3d63f6f6704e828dbd1ff7edbd4d0c6e906a71235d6efc74af"
   }
  }
 },
 "nbformat": 4,
 "nbformat_minor": 4
}
